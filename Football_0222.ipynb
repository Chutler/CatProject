{
  "nbformat": 4,
  "nbformat_minor": 0,
  "metadata": {
    "colab": {
      "provenance": [],
      "authorship_tag": "ABX9TyOn+SIglQ5FlVg/4fROTNxa",
      "include_colab_link": true
    },
    "kernelspec": {
      "name": "python3",
      "display_name": "Python 3"
    },
    "language_info": {
      "name": "python"
    }
  },
  "cells": [
    {
      "cell_type": "markdown",
      "metadata": {
        "id": "view-in-github",
        "colab_type": "text"
      },
      "source": [
        "<a href=\"https://colab.research.google.com/github/Chutler/CatProject/blob/master/Football_0222.ipynb\" target=\"_parent\"><img src=\"https://colab.research.google.com/assets/colab-badge.svg\" alt=\"Open In Colab\"/></a>"
      ]
    },
    {
      "cell_type": "code",
      "execution_count": null,
      "metadata": {
        "id": "3mxh0g9LTysT"
      },
      "outputs": [],
      "source": [
        "!pip install nfl_data_py\n",
        "#need to download nfl_data_py via pip\n",
        "import pandas as pd\n",
        "import numpy as np\n",
        "import nfl_data_py as nfl"
      ]
    }
  ]
}